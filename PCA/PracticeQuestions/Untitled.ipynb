{
 "cells": [
  {
   "cell_type": "code",
   "execution_count": 4,
   "metadata": {},
   "outputs": [],
   "source": [
    "import numpy as np\n",
    "import pandas as pd\n",
    "\n",
    "\n",
    "ratings = pd.read_csv('MyFoodRatings.csv')\n",
    "ratings =ratings.drop('Name',axis = 1)\n",
    "ratings\n",
    "u, s, vt = np.linalg.svd(ratings, full_matrices=True)"
   ]
  },
  {
   "cell_type": "code",
   "execution_count": 9,
   "metadata": {},
   "outputs": [
    {
     "data": {
      "text/plain": [
       "(12, 12)"
      ]
     },
     "execution_count": 9,
     "metadata": {},
     "output_type": "execute_result"
    }
   ],
   "source": [
    "u.shape"
   ]
  },
  {
   "cell_type": "code",
   "execution_count": 10,
   "metadata": {},
   "outputs": [
    {
     "data": {
      "text/plain": [
       "(9, 9)"
      ]
     },
     "execution_count": 10,
     "metadata": {},
     "output_type": "execute_result"
    }
   ],
   "source": [
    "vt.shape"
   ]
  },
  {
   "cell_type": "code",
   "execution_count": 13,
   "metadata": {},
   "outputs": [
    {
     "data": {
      "text/plain": [
       "array([1.27279221e+01, 1.05770379e+01, 8.84826058e+00, 1.24205263e+00,\n",
       "       1.06125858e+00, 4.06927550e-01, 3.87210908e-16, 3.62597321e-16,\n",
       "       0.00000000e+00])"
      ]
     },
     "execution_count": 13,
     "metadata": {},
     "output_type": "execute_result"
    }
   ],
   "source": [
    "s"
   ]
  },
  {
   "cell_type": "code",
   "execution_count": 14,
   "metadata": {},
   "outputs": [
    {
     "data": {
      "text/plain": [
       "array([[-6.80413817e-01,  3.02164435e-17, -1.54169932e-17,\n",
       "         3.08339864e-17,  7.55411086e-17, -2.60871753e-16,\n",
       "        -2.26654487e-01, -4.08248290e-01, -5.44331054e-01,\n",
       "        -2.65393249e-03, -1.50554312e-01, -5.30786497e-03],\n",
       "       [-5.44331054e-01,  9.78791554e-18, -4.99397711e-18,\n",
       "         9.98795423e-18,  2.44697888e-17, -8.45033496e-17,\n",
       "        -7.34194605e-02, -1.32242558e-01,  8.23676589e-01,\n",
       "        -8.59679831e-04, -4.87685749e-02, -1.71935966e-03],\n",
       "       [-4.08248290e-01,  7.34093665e-18, -3.74548283e-18,\n",
       "         7.49096567e-18,  1.83523416e-17, -6.33775122e-17,\n",
       "        -5.50645954e-02,  9.00818081e-01, -1.32242558e-01,\n",
       "        -6.44759873e-04, -3.65764312e-02, -1.28951975e-03],\n",
       "       [-2.72165527e-01, -1.06128345e-16,  5.41486614e-17,\n",
       "        -1.08297323e-16, -2.65320862e-16,  9.16252350e-16,\n",
       "         7.96072032e-01, -6.61212792e-02, -8.81617055e-02,\n",
       "         9.32133069e-03,  5.28787576e-01,  1.86426614e-02],\n",
       "       [ 0.00000000e+00, -3.26217015e-01, -7.66682207e-17,\n",
       "         1.53336441e-16, -2.89928697e-01, -1.29730700e-15,\n",
       "         4.98094805e-01,  0.00000000e+00,  0.00000000e+00,\n",
       "        -1.31979225e-02, -7.48701843e-01, -2.63958451e-02],\n",
       "       [ 0.00000000e+00, -1.63108508e-01,  5.08164222e-17,\n",
       "        -1.01632844e-16, -1.44964349e-01,  7.43001773e-16,\n",
       "        -5.85993888e-02,  0.00000000e+00,  0.00000000e+00,\n",
       "         4.35076963e-01,  4.98723013e-02,  8.70153925e-01],\n",
       "       [ 0.00000000e+00, -6.64310100e-01,  6.16297582e-33,\n",
       "        -1.23259516e-32,  7.47457083e-01,  1.97215226e-31,\n",
       "         3.33066907e-16,  0.00000000e+00,  0.00000000e+00,\n",
       "         8.67361738e-19,  0.00000000e+00, -8.67361738e-18],\n",
       "       [ 0.00000000e+00, -6.52434031e-01,  2.56300048e-17,\n",
       "        -5.12600096e-17, -5.79857394e-01,  4.62903056e-16,\n",
       "        -2.34397555e-01,  0.00000000e+00,  0.00000000e+00,\n",
       "        -1.02170279e-01,  3.61882846e-01, -2.04340559e-01],\n",
       "       [ 0.00000000e+00,  0.00000000e+00, -5.41047938e-01,\n",
       "        -8.36812635e-01,  0.00000000e+00,  8.37361465e-02,\n",
       "         0.00000000e+00,  0.00000000e+00,  0.00000000e+00,\n",
       "        -9.71445147e-17, -2.77555756e-16, -2.22044605e-16],\n",
       "       [ 0.00000000e+00,  0.00000000e+00, -1.93680321e-01,\n",
       "         1.62154236e-01,  0.00000000e+00,  3.69044628e-01,\n",
       "         0.00000000e+00,  0.00000000e+00,  0.00000000e+00,\n",
       "         8.00000000e-01, -6.38378239e-16, -4.00000000e-01],\n",
       "       [ 0.00000000e+00,  0.00000000e+00, -7.20906926e-01,\n",
       "         4.10212912e-01,  0.00000000e+00, -5.58586225e-01,\n",
       "         0.00000000e+00,  0.00000000e+00,  0.00000000e+00,\n",
       "         1.66533454e-16,  9.99200722e-16,  2.77555756e-16],\n",
       "       [ 0.00000000e+00,  0.00000000e+00, -3.87360641e-01,\n",
       "         3.24308471e-01,  0.00000000e+00,  7.38089256e-01,\n",
       "         0.00000000e+00,  0.00000000e+00,  0.00000000e+00,\n",
       "        -4.00000000e-01, -1.27675648e-15,  2.00000000e-01]])"
      ]
     },
     "execution_count": 14,
     "metadata": {},
     "output_type": "execute_result"
    }
   ],
   "source": [
    "u"
   ]
  },
  {
   "cell_type": "code",
   "execution_count": 16,
   "metadata": {},
   "outputs": [
    {
     "data": {
      "text/html": [
       "<div>\n",
       "<style scoped>\n",
       "    .dataframe tbody tr th:only-of-type {\n",
       "        vertical-align: middle;\n",
       "    }\n",
       "\n",
       "    .dataframe tbody tr th {\n",
       "        vertical-align: top;\n",
       "    }\n",
       "\n",
       "    .dataframe thead th {\n",
       "        text-align: right;\n",
       "    }\n",
       "</style>\n",
       "<table border=\"1\" class=\"dataframe\">\n",
       "  <thead>\n",
       "    <tr style=\"text-align: right;\">\n",
       "      <th></th>\n",
       "      <th>Chicken</th>\n",
       "      <th>Mutton</th>\n",
       "      <th>Paneer</th>\n",
       "      <th>ChowMein</th>\n",
       "      <th>SpringRolls</th>\n",
       "      <th>Momo</th>\n",
       "      <th>Sushi</th>\n",
       "      <th>Ramen</th>\n",
       "      <th>Tempura</th>\n",
       "    </tr>\n",
       "  </thead>\n",
       "  <tbody>\n",
       "    <tr>\n",
       "      <th>0</th>\n",
       "      <td>5</td>\n",
       "      <td>5</td>\n",
       "      <td>5</td>\n",
       "      <td>0</td>\n",
       "      <td>0</td>\n",
       "      <td>0</td>\n",
       "      <td>0</td>\n",
       "      <td>0</td>\n",
       "      <td>0</td>\n",
       "    </tr>\n",
       "    <tr>\n",
       "      <th>1</th>\n",
       "      <td>4</td>\n",
       "      <td>4</td>\n",
       "      <td>4</td>\n",
       "      <td>0</td>\n",
       "      <td>0</td>\n",
       "      <td>0</td>\n",
       "      <td>0</td>\n",
       "      <td>0</td>\n",
       "      <td>0</td>\n",
       "    </tr>\n",
       "    <tr>\n",
       "      <th>2</th>\n",
       "      <td>3</td>\n",
       "      <td>3</td>\n",
       "      <td>3</td>\n",
       "      <td>0</td>\n",
       "      <td>0</td>\n",
       "      <td>0</td>\n",
       "      <td>0</td>\n",
       "      <td>0</td>\n",
       "      <td>0</td>\n",
       "    </tr>\n",
       "    <tr>\n",
       "      <th>3</th>\n",
       "      <td>2</td>\n",
       "      <td>2</td>\n",
       "      <td>2</td>\n",
       "      <td>0</td>\n",
       "      <td>0</td>\n",
       "      <td>0</td>\n",
       "      <td>0</td>\n",
       "      <td>0</td>\n",
       "      <td>0</td>\n",
       "    </tr>\n",
       "    <tr>\n",
       "      <th>4</th>\n",
       "      <td>0</td>\n",
       "      <td>0</td>\n",
       "      <td>0</td>\n",
       "      <td>2</td>\n",
       "      <td>2</td>\n",
       "      <td>2</td>\n",
       "      <td>0</td>\n",
       "      <td>0</td>\n",
       "      <td>0</td>\n",
       "    </tr>\n",
       "    <tr>\n",
       "      <th>5</th>\n",
       "      <td>0</td>\n",
       "      <td>0</td>\n",
       "      <td>0</td>\n",
       "      <td>1</td>\n",
       "      <td>1</td>\n",
       "      <td>1</td>\n",
       "      <td>0</td>\n",
       "      <td>0</td>\n",
       "      <td>0</td>\n",
       "    </tr>\n",
       "    <tr>\n",
       "      <th>6</th>\n",
       "      <td>0</td>\n",
       "      <td>0</td>\n",
       "      <td>0</td>\n",
       "      <td>5</td>\n",
       "      <td>3</td>\n",
       "      <td>4</td>\n",
       "      <td>0</td>\n",
       "      <td>0</td>\n",
       "      <td>0</td>\n",
       "    </tr>\n",
       "    <tr>\n",
       "      <th>7</th>\n",
       "      <td>0</td>\n",
       "      <td>0</td>\n",
       "      <td>0</td>\n",
       "      <td>4</td>\n",
       "      <td>4</td>\n",
       "      <td>4</td>\n",
       "      <td>0</td>\n",
       "      <td>0</td>\n",
       "      <td>0</td>\n",
       "    </tr>\n",
       "    <tr>\n",
       "      <th>8</th>\n",
       "      <td>0</td>\n",
       "      <td>0</td>\n",
       "      <td>0</td>\n",
       "      <td>0</td>\n",
       "      <td>0</td>\n",
       "      <td>0</td>\n",
       "      <td>2</td>\n",
       "      <td>2</td>\n",
       "      <td>4</td>\n",
       "    </tr>\n",
       "    <tr>\n",
       "      <th>9</th>\n",
       "      <td>0</td>\n",
       "      <td>0</td>\n",
       "      <td>0</td>\n",
       "      <td>0</td>\n",
       "      <td>0</td>\n",
       "      <td>0</td>\n",
       "      <td>1</td>\n",
       "      <td>1</td>\n",
       "      <td>1</td>\n",
       "    </tr>\n",
       "    <tr>\n",
       "      <th>10</th>\n",
       "      <td>0</td>\n",
       "      <td>0</td>\n",
       "      <td>0</td>\n",
       "      <td>0</td>\n",
       "      <td>0</td>\n",
       "      <td>0</td>\n",
       "      <td>3</td>\n",
       "      <td>4</td>\n",
       "      <td>4</td>\n",
       "    </tr>\n",
       "    <tr>\n",
       "      <th>11</th>\n",
       "      <td>0</td>\n",
       "      <td>0</td>\n",
       "      <td>0</td>\n",
       "      <td>0</td>\n",
       "      <td>0</td>\n",
       "      <td>0</td>\n",
       "      <td>2</td>\n",
       "      <td>2</td>\n",
       "      <td>2</td>\n",
       "    </tr>\n",
       "  </tbody>\n",
       "</table>\n",
       "</div>"
      ],
      "text/plain": [
       "    Chicken  Mutton  Paneer  ChowMein  SpringRolls  Momo  Sushi  Ramen  \\\n",
       "0         5       5       5         0            0     0      0      0   \n",
       "1         4       4       4         0            0     0      0      0   \n",
       "2         3       3       3         0            0     0      0      0   \n",
       "3         2       2       2         0            0     0      0      0   \n",
       "4         0       0       0         2            2     2      0      0   \n",
       "5         0       0       0         1            1     1      0      0   \n",
       "6         0       0       0         5            3     4      0      0   \n",
       "7         0       0       0         4            4     4      0      0   \n",
       "8         0       0       0         0            0     0      2      2   \n",
       "9         0       0       0         0            0     0      1      1   \n",
       "10        0       0       0         0            0     0      3      4   \n",
       "11        0       0       0         0            0     0      2      2   \n",
       "\n",
       "    Tempura  \n",
       "0         0  \n",
       "1         0  \n",
       "2         0  \n",
       "3         0  \n",
       "4         0  \n",
       "5         0  \n",
       "6         0  \n",
       "7         0  \n",
       "8         4  \n",
       "9         1  \n",
       "10        4  \n",
       "11        2  "
      ]
     },
     "execution_count": 16,
     "metadata": {},
     "output_type": "execute_result"
    }
   ],
   "source": [
    "ratings"
   ]
  },
  {
   "cell_type": "code",
   "execution_count": 20,
   "metadata": {},
   "outputs": [
    {
     "data": {
      "text/plain": [
       "array([[-0.57735027, -0.57735027, -0.57735027,  0.        ,  0.        ,\n",
       "         0.        ,  0.        ,  0.        ,  0.        ],\n",
       "       [ 0.        ,  0.        ,  0.        , -0.63787511, -0.51226147,\n",
       "        -0.57506829,  0.        ,  0.        ,  0.        ],\n",
       "       [ 0.        ,  0.        ,  0.        ,  0.        ,  0.        ,\n",
       "         0.        , -0.47616345, -0.55763787, -0.67993263],\n",
       "       [ 0.        ,  0.        ,  0.        ,  0.        ,  0.        ,\n",
       "         0.        ,  0.29611035,  0.62638051, -0.72108676],\n",
       "       [-0.        , -0.        , -0.        ,  0.65303038, -0.75559349,\n",
       "        -0.05128155,  0.        ,  0.        ,  0.        ],\n",
       "       [-0.        , -0.        , -0.        ,  0.        ,  0.        ,\n",
       "         0.        ,  0.82800183, -0.54469025, -0.13313715],\n",
       "       [ 0.        ,  0.        ,  0.        , -0.40824829, -0.40824829,\n",
       "         0.81649658,  0.        ,  0.        ,  0.        ],\n",
       "       [-0.81649658,  0.40824829,  0.40824829, -0.        , -0.        ,\n",
       "        -0.        ,  0.        ,  0.        ,  0.        ],\n",
       "       [ 0.        , -0.70710678,  0.70710678,  0.        ,  0.        ,\n",
       "         0.        ,  0.        ,  0.        ,  0.        ]])"
      ]
     },
     "execution_count": 20,
     "metadata": {},
     "output_type": "execute_result"
    }
   ],
   "source": [
    "np.array(vt)"
   ]
  },
  {
   "cell_type": "code",
   "execution_count": 25,
   "metadata": {},
   "outputs": [],
   "source": [
    "data = pd.read_csv('FoodRatings_all_same_5.csv')\n",
    "data = data.drop('Name',axis = 1)\n",
    "u, s, VT = np.linalg.svd(data, full_matrices=True)\n"
   ]
  },
  {
   "cell_type": "code",
   "execution_count": 26,
   "metadata": {},
   "outputs": [
    {
     "data": {
      "text/plain": [
       "array([17.32050808, 17.32050808, 17.32050808,  0.        ,  0.        ,\n",
       "        0.        ,  0.        ,  0.        ,  0.        ])"
      ]
     },
     "execution_count": 26,
     "metadata": {},
     "output_type": "execute_result"
    }
   ],
   "source": [
    "s"
   ]
  },
  {
   "cell_type": "code",
   "execution_count": 27,
   "metadata": {},
   "outputs": [],
   "source": [
    "\n",
    "data = pd.read_csv('FoodRatings_all_same_5_4_3.csv')\n",
    "data = data.drop('Name',axis = 1)\n",
    "u, s, VT = np.linalg.svd(data, full_matrices=True)"
   ]
  },
  {
   "cell_type": "code",
   "execution_count": 28,
   "metadata": {},
   "outputs": [
    {
     "data": {
      "text/plain": [
       "array([17.32050808, 13.85640646, 10.39230485,  0.        ,  0.        ,\n",
       "        0.        ,  0.        ,  0.        ,  0.        ])"
      ]
     },
     "execution_count": 28,
     "metadata": {},
     "output_type": "execute_result"
    }
   ],
   "source": [
    "s"
   ]
  },
  {
   "cell_type": "code",
   "execution_count": null,
   "metadata": {},
   "outputs": [],
   "source": []
  }
 ],
 "metadata": {
  "kernelspec": {
   "display_name": "Python 3",
   "language": "python",
   "name": "python3"
  },
  "language_info": {
   "codemirror_mode": {
    "name": "ipython",
    "version": 3
   },
   "file_extension": ".py",
   "mimetype": "text/x-python",
   "name": "python",
   "nbconvert_exporter": "python",
   "pygments_lexer": "ipython3",
   "version": "3.7.3"
  }
 },
 "nbformat": 4,
 "nbformat_minor": 2
}
